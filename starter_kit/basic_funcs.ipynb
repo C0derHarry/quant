{
 "cells": [
  {
   "cell_type": "code",
   "execution_count": 1,
   "id": "477f65c1",
   "metadata": {},
   "outputs": [],
   "source": [
    "import pandas as pd"
   ]
  },
  {
   "cell_type": "code",
   "execution_count": 2,
   "id": "f13f89ed",
   "metadata": {},
   "outputs": [],
   "source": [
    "cl_price = pd.read_excel(\"stocks_data.xlsx\", index_col=0)"
   ]
  },
  {
   "cell_type": "code",
   "execution_count": 3,
   "id": "3f3f3a42",
   "metadata": {},
   "outputs": [
    {
     "data": {
      "application/vnd.microsoft.datawrangler.viewer.v0+json": {
       "columns": [
        {
         "name": "index",
         "rawType": "object",
         "type": "string"
        },
        {
         "name": "0",
         "rawType": "int64",
         "type": "integer"
        }
       ],
       "ref": "051a1533-1f12-4601-b4ea-75f1427750d0",
       "rows": [
        [
         "AAPL",
         "0"
        ],
        [
         "AMZN",
         "0"
        ],
        [
         "GOOGL",
         "0"
        ],
        [
         "TSLA",
         "0"
        ]
       ],
       "shape": {
        "columns": 1,
        "rows": 4
       }
      },
      "text/plain": [
       "AAPL     0\n",
       "AMZN     0\n",
       "GOOGL    0\n",
       "TSLA     0\n",
       "dtype: int64"
      ]
     },
     "execution_count": 3,
     "metadata": {},
     "output_type": "execute_result"
    }
   ],
   "source": [
    "cl_price.isna().sum()"
   ]
  },
  {
   "cell_type": "code",
   "execution_count": 5,
   "id": "6284ff55",
   "metadata": {},
   "outputs": [],
   "source": [
    "daily_return = cl_price.pct_change().round(4) #you can also use `cl_price/cl_price.shift(1) - 1` to get the same result"
   ]
  },
  {
   "cell_type": "code",
   "execution_count": 7,
   "id": "ac62b0a0",
   "metadata": {},
   "outputs": [
    {
     "data": {
      "application/vnd.microsoft.datawrangler.viewer.v0+json": {
       "columns": [
        {
         "name": "index",
         "rawType": "object",
         "type": "string"
        },
        {
         "name": "0",
         "rawType": "float64",
         "type": "float"
        }
       ],
       "ref": "14faea51-cd2a-4f30-81ed-18c926bc1331",
       "rows": [
        [
         "AAPL",
         "0.00095"
        ],
        [
         "AMZN",
         "0.00112"
        ],
        [
         "GOOGL",
         "0.0009"
        ],
        [
         "TSLA",
         "0.00181"
        ]
       ],
       "shape": {
        "columns": 1,
        "rows": 4
       }
      },
      "text/plain": [
       "AAPL     0.00095\n",
       "AMZN     0.00112\n",
       "GOOGL    0.00090\n",
       "TSLA     0.00181\n",
       "dtype: float64"
      ]
     },
     "execution_count": 7,
     "metadata": {},
     "output_type": "execute_result"
    }
   ],
   "source": [
    "daily_return.mean().round(5)"
   ]
  },
  {
   "cell_type": "code",
   "execution_count": 9,
   "id": "0f6ab683",
   "metadata": {},
   "outputs": [
    {
     "data": {
      "application/vnd.microsoft.datawrangler.viewer.v0+json": {
       "columns": [
        {
         "name": "index",
         "rawType": "object",
         "type": "string"
        },
        {
         "name": "0",
         "rawType": "float64",
         "type": "float"
        }
       ],
       "ref": "fc34d0aa-6916-49c7-8958-2d77d58669e4",
       "rows": [
        [
         "AAPL",
         "0.01852"
        ],
        [
         "AMZN",
         "0.02075"
        ],
        [
         "GOOGL",
         "0.01836"
        ],
        [
         "TSLA",
         "0.03723"
        ]
       ],
       "shape": {
        "columns": 1,
        "rows": 4
       }
      },
      "text/plain": [
       "AAPL     0.01852\n",
       "AMZN     0.02075\n",
       "GOOGL    0.01836\n",
       "TSLA     0.03723\n",
       "dtype: float64"
      ]
     },
     "execution_count": 9,
     "metadata": {},
     "output_type": "execute_result"
    }
   ],
   "source": [
    "daily_return.std().round(5)"
   ]
  },
  {
   "cell_type": "code",
   "execution_count": null,
   "id": "92baa306",
   "metadata": {},
   "outputs": [],
   "source": []
  }
 ],
 "metadata": {
  "kernelspec": {
   "display_name": "venv",
   "language": "python",
   "name": "python3"
  },
  "language_info": {
   "codemirror_mode": {
    "name": "ipython",
    "version": 3
   },
   "file_extension": ".py",
   "mimetype": "text/x-python",
   "name": "python",
   "nbconvert_exporter": "python",
   "pygments_lexer": "ipython3",
   "version": "3.13.3"
  }
 },
 "nbformat": 4,
 "nbformat_minor": 5
}
