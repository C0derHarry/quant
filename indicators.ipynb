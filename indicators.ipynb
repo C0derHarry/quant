{
 "cells": [
  {
   "cell_type": "code",
   "execution_count": 3,
   "id": "16d08d67",
   "metadata": {},
   "outputs": [],
   "source": [
    "import yfinance as yf\n",
    "import pandas as pd\n",
    "import datetime as dt\n",
    "import numpy as np"
   ]
  },
  {
   "cell_type": "code",
   "execution_count": 4,
   "id": "dc7c9aef",
   "metadata": {},
   "outputs": [
    {
     "name": "stdout",
     "output_type": "stream",
     "text": [
      "YF.download() has changed argument auto_adjust default to True\n"
     ]
    },
    {
     "name": "stderr",
     "output_type": "stream",
     "text": [
      "[*********************100%***********************]  1 of 1 completed\n"
     ]
    }
   ],
   "source": [
    "stocks = [\"TCS.NS\"]\n",
    "start_date = dt.datetime.now() - dt.timedelta(days=30)\n",
    "end_date = dt.datetime.now()\n",
    "data = {}\n",
    "for stock in stocks:\n",
    "    data[stock] = yf.download(stock, start=start_date, end=end_date, interval=\"15m\")"
   ]
  },
  {
   "cell_type": "markdown",
   "id": "b1f9601d",
   "metadata": {},
   "source": [
    "## Moving Average Convergence Divergence (MACD)"
   ]
  },
  {
   "cell_type": "code",
   "execution_count": 5,
   "id": "da39d75e",
   "metadata": {},
   "outputs": [],
   "source": [
    "def MACD(df, a=12, b=26, c=9):\n",
    "    df = df.copy()\n",
    "    df['EMA12'] = df['Close'].ewm(span=a, min_periods=a).mean()\n",
    "    df['EMA26'] = df['Close'].ewm(span=b, min_periods=b).mean()\n",
    "    df['MACD'] = df['EMA12'] - df['EMA26']\n",
    "    df['Signal'] = df['MACD'].ewm(span=c, min_periods=c).mean()\n",
    "    return df.loc[:, ['MACD', 'Signal']]"
   ]
  },
  {
   "cell_type": "code",
   "execution_count": 6,
   "id": "6e1f26d6",
   "metadata": {},
   "outputs": [],
   "source": [
    "for ticker in data:\n",
    "    data[ticker][['MACD', 'Signal']] = MACD(data[ticker])"
   ]
  },
  {
   "cell_type": "code",
   "execution_count": 7,
   "id": "355886fe",
   "metadata": {},
   "outputs": [],
   "source": [
    "for stock, df in data.items():\n",
    "    # Convert datetime index to string (preserving timezone info)\n",
    "    df.index = df.index.astype(str)\n",
    "    data[stock] = df\n",
    "\n",
    "with pd.ExcelWriter(\"sheets/macd_signals.xlsx\", engine=\"openpyxl\") as writer:\n",
    "    for stock, df in data.items():\n",
    "        # Optional: write only relevant columns if needed\n",
    "        # df = df[['MACD', 'Signal']] \n",
    "        df.to_excel(writer, sheet_name=stock)\n"
   ]
  },
  {
   "cell_type": "markdown",
   "id": "c49d8543",
   "metadata": {},
   "source": [
    "## Average True Range (ATR)"
   ]
  },
  {
   "cell_type": "code",
   "execution_count": 8,
   "id": "8a2926e8",
   "metadata": {},
   "outputs": [],
   "source": [
    "def ATR(df, period=14):\n",
    "    df = df.copy()\n",
    "    df['TR'] = pd.concat([\n",
    "        df['High'] - df['Low'],\n",
    "        (df['High'] - df['Close'].shift(1)).abs(),\n",
    "        (df['Low'] - df['Close'].shift(1)).abs()\n",
    "    ], axis=1).max(axis=1, skipna=False)\n",
    "    df['ATR'] = df['TR'].ewm(com=period).mean()\n",
    "    return df[['ATR']]"
   ]
  },
  {
   "cell_type": "code",
   "execution_count": 9,
   "id": "7e77b8e6",
   "metadata": {},
   "outputs": [],
   "source": [
    "for ticker in data:\n",
    "    data[ticker][['ATR']] = ATR(data[ticker])"
   ]
  },
  {
   "cell_type": "code",
   "execution_count": 10,
   "id": "4a1b0384",
   "metadata": {},
   "outputs": [],
   "source": [
    "with pd.ExcelWriter(\"sheets/atr_signals.xlsx\", engine=\"openpyxl\") as writer:\n",
    "    for stock, df in data.items():\n",
    "        # Optional: write only relevant columns if needed\n",
    "        # df = df[['MACD', 'Signal']] \n",
    "        df.to_excel(writer, sheet_name=stock)"
   ]
  },
  {
   "cell_type": "markdown",
   "id": "80454444",
   "metadata": {},
   "source": [
    "## Bollinger Bands"
   ]
  },
  {
   "cell_type": "code",
   "execution_count": 11,
   "id": "8bc056e9",
   "metadata": {},
   "outputs": [],
   "source": [
    "def Boll_Bands(df, period=14, num_std_dev=2):\n",
    "    df = df.copy()\n",
    "    df['MA'] = df['Close'].rolling(window=period).mean()\n",
    "    df['STD'] = df['Close'].rolling(window=period).std(ddof=0)  # Use ddof=0 for population std deviation\n",
    "    df['Upper Band'] = df['MA'] + (num_std_dev * df['STD'])\n",
    "    df['Lower Band'] = df['MA'] - (num_std_dev * df['STD'])\n",
    "    df['Bandwidth'] = df['Upper Band'] - df['Lower Band']\n",
    "    return df[['Upper Band', 'Lower Band', 'Bandwidth']]"
   ]
  },
  {
   "cell_type": "code",
   "execution_count": 12,
   "id": "89267336",
   "metadata": {},
   "outputs": [],
   "source": [
    "for ticker in data:\n",
    "    data[ticker][['Upper Band', 'Lower Band', 'Bandwidth']] = Boll_Bands(data[ticker])"
   ]
  },
  {
   "cell_type": "code",
   "execution_count": 13,
   "id": "0b7e5e14",
   "metadata": {},
   "outputs": [],
   "source": [
    "with pd.ExcelWriter(\"sheets/boll_bands.xlsx\", engine=\"openpyxl\") as writer:\n",
    "    for stock, df in data.items():\n",
    "        # Optional: write only relevant columns if needed\n",
    "        # df = df[['MACD', 'Signal']] \n",
    "        df.to_excel(writer, sheet_name=stock)"
   ]
  },
  {
   "cell_type": "markdown",
   "id": "770cc76f",
   "metadata": {},
   "source": [
    "## Relative Strength Index (RSI)"
   ]
  },
  {
   "cell_type": "code",
   "execution_count": 14,
   "id": "0f21a5e8",
   "metadata": {},
   "outputs": [],
   "source": [
    "def RSI(df, period=14):\n",
    "    df = df.copy()\n",
    "    df['change'] = df['Close'] - df['Close'].shift(1)\n",
    "    df['gain'] = np.where(df['change'] >= 0, df['change'], 0)\n",
    "    df['loss'] = np.where(df['change'] < 0, -df['change'], 0)\n",
    "    df['avg_gain'] = df['gain'].ewm(alpha = 1/period, min_periods=period).mean()\n",
    "    df['avg_loss'] = df['loss'].ewm(alpha = 1/period, min_periods=period).mean()\n",
    "    df['rs'] = df['avg_gain'] / df['avg_loss']\n",
    "    df['RSI'] = 100 - (100 / (1 + df['rs']))\n",
    "    return df[['RSI']]\n"
   ]
  },
  {
   "cell_type": "code",
   "execution_count": 15,
   "id": "423c41fb",
   "metadata": {},
   "outputs": [],
   "source": [
    "for ticker in data:\n",
    "    data[ticker]['RSI'] = RSI(data[ticker])"
   ]
  },
  {
   "cell_type": "code",
   "execution_count": 16,
   "id": "05b936ef",
   "metadata": {},
   "outputs": [],
   "source": [
    "with pd.ExcelWriter(\"sheets/RSI.xlsx\", engine=\"openpyxl\") as writer:\n",
    "    for stock, df in data.items():\n",
    "        # Optional: write only relevant columns if needed\n",
    "        # df = df[['MACD', 'Signal']] \n",
    "        df.to_excel(writer, sheet_name=stock)"
   ]
  },
  {
   "cell_type": "markdown",
   "id": "dde2f5cd",
   "metadata": {},
   "source": [
    "## Average Directional Index (ADX)"
   ]
  },
  {
   "cell_type": "code",
   "execution_count": 17,
   "id": "f8f1f8a0",
   "metadata": {},
   "outputs": [],
   "source": [
    "def ADX(df, period=20):\n",
    "    df = df.copy()\n",
    "    df['TR'] = pd.concat([\n",
    "        df['High'] - df['Low'],\n",
    "        (df['High'] - df['Close'].shift(1)).abs(),\n",
    "        (df['Low'] - df['Close'].shift(1)).abs()\n",
    "    ], axis=1).max(axis=1, skipna=False)\n",
    "    \n",
    "    df['+DM'] = np.where((df['High'] - df['High'].shift(1)) > (df['Low'].shift(1) - df['Low']), \n",
    "                         np.maximum(df['High'] - df['High'].shift(1), 0), 0)\n",
    "    df['-DM'] = np.where((df['Low'].shift(1) - df['Low']) > (df['High'] - df['High'].shift(1)), \n",
    "                         np.maximum(df['Low'].shift(1) - df['Low'], 0), 0)\n",
    "    \n",
    "    df['+DI'] = 100 * (df['+DM'].rolling(window=period).sum() / df['TR'].rolling(window=period).sum())\n",
    "    df['-DI'] = 100 * (df['-DM'].rolling(window=period).sum() / df['TR'].rolling(window=period).sum())\n",
    "    \n",
    "    df['DX'] = 100 * (np.abs(df['+DI'] - df['-DI']) / (df['+DI'] + df['-DI']))\n",
    "    df['ADX'] = df['DX'].rolling(window=period).mean()\n",
    "    \n",
    "    return df[['ADX', '+DI', '-DI']]"
   ]
  },
  {
   "cell_type": "code",
   "execution_count": 18,
   "id": "28abb2d6",
   "metadata": {},
   "outputs": [],
   "source": [
    "for ticker in data:\n",
    "    data[ticker][['ADX', '+DI', '-DI']] = ADX(data[ticker])"
   ]
  },
  {
   "cell_type": "code",
   "execution_count": 19,
   "id": "6108d19d",
   "metadata": {},
   "outputs": [],
   "source": [
    "with pd.ExcelWriter(\"sheets/ADX.xlsx\", engine=\"openpyxl\") as writer:\n",
    "    for stock, df in data.items():\n",
    "        # Optional: write only relevant columns if needed\n",
    "        # df = df[['MACD', 'Signal']] \n",
    "        df.to_excel(writer, sheet_name=stock)"
   ]
  }
 ],
 "metadata": {
  "kernelspec": {
   "display_name": "venv",
   "language": "python",
   "name": "python3"
  },
  "language_info": {
   "codemirror_mode": {
    "name": "ipython",
    "version": 3
   },
   "file_extension": ".py",
   "mimetype": "text/x-python",
   "name": "python",
   "nbconvert_exporter": "python",
   "pygments_lexer": "ipython3",
   "version": "3.13.3"
  }
 },
 "nbformat": 4,
 "nbformat_minor": 5
}
