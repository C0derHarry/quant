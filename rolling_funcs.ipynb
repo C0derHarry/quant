{
 "cells": [
  {
   "cell_type": "code",
   "execution_count": null,
   "id": "3db079a3",
   "metadata": {},
   "outputs": [],
   "source": [
    "import pandas as pd\n",
    "cl_price = pd.read_excel(\"stocks_data.xlsx\", index_col=0)\n",
    "daily_return = cl_price.pct_change().round(4)"
   ]
  },
  {
   "cell_type": "code",
   "execution_count": 2,
   "id": "f33064f9",
   "metadata": {},
   "outputs": [],
   "source": [
    "df = daily_return.rolling(10)"
   ]
  },
  {
   "cell_type": "code",
   "execution_count": 16,
   "id": "597443d3",
   "metadata": {},
   "outputs": [],
   "source": [
    "df.mean().round(7).to_excel(\"ma_mean_return.xlsx\")\n",
    "df.std().round(7).to_excel(\"ma_std_return.xlsx\")"
   ]
  },
  {
   "cell_type": "code",
   "execution_count": 12,
   "id": "31d1fa6d",
   "metadata": {},
   "outputs": [],
   "source": [
    "df2 = daily_return.ewm(com=10, min_periods=10)"
   ]
  },
  {
   "cell_type": "code",
   "execution_count": 14,
   "id": "9eec6004",
   "metadata": {},
   "outputs": [],
   "source": [
    "df2.mean().round(7).to_excel(\"ewm_mean_return.xlsx\")\n",
    "df2.std().round(7).to_excel(\"ewm_std_return.xlsx\")"
   ]
  }
 ],
 "metadata": {
  "kernelspec": {
   "display_name": "venv",
   "language": "python",
   "name": "python3"
  },
  "language_info": {
   "codemirror_mode": {
    "name": "ipython",
    "version": 3
   },
   "file_extension": ".py",
   "mimetype": "text/x-python",
   "name": "python",
   "nbconvert_exporter": "python",
   "pygments_lexer": "ipython3",
   "version": "3.13.3"
  }
 },
 "nbformat": 4,
 "nbformat_minor": 5
}
