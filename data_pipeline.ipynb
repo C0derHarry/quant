{
 "cells": [
  {
   "cell_type": "code",
   "execution_count": 1,
   "id": "2ae0b82d",
   "metadata": {},
   "outputs": [],
   "source": [
    "import yfinance as yf\n",
    "import pandas as pd\n",
    "import datetime as dt"
   ]
  },
  {
   "cell_type": "code",
   "execution_count": 5,
   "id": "e60a47e9",
   "metadata": {},
   "outputs": [
    {
     "name": "stderr",
     "output_type": "stream",
     "text": [
      "[*********************100%***********************]  4 of 4 completed\n"
     ]
    }
   ],
   "source": [
    "stocks = [\"AMZN\", \"AAPL\", \"GOOGL\", \"TSLA\"]\n",
    "start_date = dt.datetime.now() - dt.timedelta(days=3650)\n",
    "end_date = dt.datetime.now()\n",
    "data = yf.download(stocks, start=start_date, end=end_date, interval=\"1d\")[\"Close\"]\n",
    "data.to_excel(\"stocks_data_close.xlsx\", index=True, engine=\"openpyxl\")"
   ]
  },
  {
   "cell_type": "code",
   "execution_count": 3,
   "id": "47af80f4",
   "metadata": {},
   "outputs": [
    {
     "name": "stderr",
     "output_type": "stream",
     "text": [
      "[*********************100%***********************]  1 of 1 completed\n",
      "[*********************100%***********************]  1 of 1 completed\n",
      "[*********************100%***********************]  1 of 1 completed\n",
      "[*********************100%***********************]  1 of 1 completed\n"
     ]
    }
   ],
   "source": [
    "ohlcv_data = {}\n",
    "for stock in stocks:\n",
    "    ohlcv_data[stock] = yf.download(stock, start=start_date, end=end_date, interval=\"1d\")"
   ]
  }
 ],
 "metadata": {
  "kernelspec": {
   "display_name": "venv",
   "language": "python",
   "name": "python3"
  },
  "language_info": {
   "codemirror_mode": {
    "name": "ipython",
    "version": 3
   },
   "file_extension": ".py",
   "mimetype": "text/x-python",
   "name": "python",
   "nbconvert_exporter": "python",
   "pygments_lexer": "ipython3",
   "version": "3.13.3"
  }
 },
 "nbformat": 4,
 "nbformat_minor": 5
}
